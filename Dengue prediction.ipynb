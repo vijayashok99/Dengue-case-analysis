{
 "cells": [
  {
   "cell_type": "code",
   "execution_count": 2,
   "metadata": {},
   "outputs": [],
   "source": [
    "import numpy as np\n",
    "import pandas as pd\n",
    "import matplotlib.pyplot as plt"
   ]
  },
  {
   "cell_type": "code",
   "execution_count": 346,
   "metadata": {},
   "outputs": [],
   "source": [
    "data=pd.read_csv(\"dengue_features_train.csv\")\n",
    "new=pd.get_dummies(data[\"city\"])\n",
    "x_data=data.drop([\"week_start_date\",\"weekofyear\",\"year\",\"city\"],axis=1)\n",
    "data[data.isnull()].index.tolist()\n",
    "y=pd.read_csv(\"dengue_labels_train.csv\")\n",
    "y_data=y[\"total_cases\"]\n",
    "x_data=pd.concat([new,x_data,y_data],axis=1)\n",
    "#x_data.isnull().sum()\n",
    "#x_data.columns"
   ]
  },
  {
   "cell_type": "code",
   "execution_count": 347,
   "metadata": {
    "collapsed": true
   },
   "outputs": [
    {
     "name": "stdout",
     "output_type": "stream",
     "text": [
      "Imputing row 1/1456 with 0 missing, elapsed time: 0.947\n",
      "Imputing row 101/1456 with 0 missing, elapsed time: 0.955\n",
      "Imputing row 201/1456 with 1 missing, elapsed time: 0.959\n",
      "Imputing row 301/1456 with 0 missing, elapsed time: 0.967\n",
      "Imputing row 401/1456 with 0 missing, elapsed time: 0.975\n",
      "Imputing row 501/1456 with 1 missing, elapsed time: 0.975\n",
      "Imputing row 601/1456 with 0 missing, elapsed time: 0.979\n",
      "Imputing row 701/1456 with 0 missing, elapsed time: 0.983\n",
      "Imputing row 801/1456 with 0 missing, elapsed time: 0.987\n",
      "Imputing row 901/1456 with 0 missing, elapsed time: 0.991\n",
      "Imputing row 1001/1456 with 0 missing, elapsed time: 0.991\n",
      "Imputing row 1101/1456 with 0 missing, elapsed time: 0.995\n",
      "Imputing row 1201/1456 with 0 missing, elapsed time: 1.003\n",
      "Imputing row 1301/1456 with 1 missing, elapsed time: 1.007\n",
      "Imputing row 1401/1456 with 1 missing, elapsed time: 1.011\n"
     ]
    }
   ],
   "source": [
    "from fancyimpute import KNN\n",
    "x_data = pd.DataFrame(KNN(k=5).fit_transform(x_data))\n",
    "#x_data"
   ]
  },
  {
   "cell_type": "code",
   "execution_count": 348,
   "metadata": {},
   "outputs": [
    {
     "data": {
      "text/plain": [
       "Int64Index([0, 1, 2, 3, 4, 5, 6, 7, 8, 9, 10, 11, 12, 13, 14, 15, 16, 17, 18,\n",
       "            19, 20, 21],\n",
       "           dtype='int64')"
      ]
     },
     "execution_count": 348,
     "metadata": {},
     "output_type": "execute_result"
    }
   ],
   "source": [
    "#x_data.fillna(x_data.mean(),inplace=True)\n",
    "#x_data.describe()\n",
    "#x_data.head(250)\n",
    "y_data=x_data[22]\n",
    "x_data=x_data.drop(22,axis=1)\n",
    "#plt.scatter(x_data.iloc[:,[12]],x_data.iloc[:,[-1]])\n",
    "x_data.columns"
   ]
  },
  {
   "cell_type": "code",
   "execution_count": 297,
   "metadata": {},
   "outputs": [],
   "source": [
    "from sklearn.preprocessing import StandardScaler\n",
    "scaler = StandardScaler()\n",
    "x_data=pd.DataFrame(scaler.fit_transform(x_data.iloc[:,2:]))\n",
    "x_data=pd.concat([new,x_data],axis=1,ignore_index=True)\n",
    "#x_data"
   ]
  },
  {
   "cell_type": "code",
   "execution_count": 349,
   "metadata": {},
   "outputs": [],
   "source": [
    "from sklearn.model_selection import train_test_split\n",
    "x_train, x_test, y_train, y_test = train_test_split(x_data,y_data,test_size=0.2,random_state=42)"
   ]
  },
  {
   "cell_type": "raw",
   "metadata": {},
   "source": [
    "for i in range(1455):\n",
    "    if (x_data.iloc[i,[22]]>200).bool():\n",
    "        print(x_data.iloc[i,[2]])"
   ]
  },
  {
   "cell_type": "code",
   "execution_count": 154,
   "metadata": {},
   "outputs": [],
   "source": [
    "#x_data.dropna(inplace=True)\n",
    "#x_data.isnull().sum()\n",
    "#x_data.head(250)\n",
    "\n"
   ]
  },
  {
   "cell_type": "code",
   "execution_count": 82,
   "metadata": {},
   "outputs": [],
   "source": [
    "#from sklearn.preprocessing import StandardScaler\n",
    "#scaler = StandardScaler()\n",
    "#n_data=pd.DataFrame(scaler.fit_transform(x_data.iloc[:,2:]))\n",
    "\n",
    "#n_data=pd.concat([new,n_data],axis=1,ignore_index=True)\n",
    "#x_train.shape\n",
    "\n",
    "#y_train"
   ]
  },
  {
   "cell_type": "code",
   "execution_count": 315,
   "metadata": {},
   "outputs": [
    {
     "data": {
      "text/plain": [
       "0.13795903447065594"
      ]
     },
     "execution_count": 315,
     "metadata": {},
     "output_type": "execute_result"
    }
   ],
   "source": [
    "from sklearn.linear_model import LinearRegression\n",
    "model=LinearRegression()\n",
    "model.fit(x_train,y_train)\n",
    "model.score(x_train,y_train)"
   ]
  },
  {
   "cell_type": "code",
   "execution_count": 350,
   "metadata": {},
   "outputs": [
    {
     "data": {
      "text/plain": [
       "0.05241922032986923"
      ]
     },
     "execution_count": 350,
     "metadata": {},
     "output_type": "execute_result"
    }
   ],
   "source": [
    "from sklearn.svm import SVR\n",
    "model=SVR(kernel=\"linear\",C=10)\n",
    "model.fit(x_train,y_train)\n",
    "model.score(x_train,y_train)"
   ]
  },
  {
   "cell_type": "code",
   "execution_count": 336,
   "metadata": {},
   "outputs": [
    {
     "name": "stdout",
     "output_type": "stream",
     "text": [
      "0.2526761867426365\n"
     ]
    }
   ],
   "source": [
    "#from sklearn.neighbors import KNeighborsClassifier\n",
    "#neigh = KNeighborsClassifier(n_neighbors=3)\n",
    "#neigh.fit(x_data)\n",
    "\n",
    "# Predicted class\n",
    "from sklearn import neighbors\n",
    "model = neighbors.KNeighborsRegressor(n_neighbors =5)\n",
    "model.fit(x_train, y_train)\n",
    "print(model.score(x_train,y_train))"
   ]
  },
  {
   "cell_type": "code",
   "execution_count": 351,
   "metadata": {},
   "outputs": [
    {
     "name": "stdout",
     "output_type": "stream",
     "text": [
      "292\n"
     ]
    },
    {
     "data": {
      "text/plain": [
       "292"
      ]
     },
     "execution_count": 351,
     "metadata": {},
     "output_type": "execute_result"
    }
   ],
   "source": [
    "y_predict=model.predict(x_test)\n",
    "from sklearn.metrics import mean_squared_error\n",
    "mse=mean_squared_error(y_predict,y_test)\n",
    "#print(mse)\n",
    "import math\n",
    "rmse=math.sqrt(mse)\n",
    "rmse\n",
    "from sklearn.metrics import accuracy_score\n",
    "print(len(y_predict))\n",
    "len(y_test)\n",
    "#accuracy_score(y_predict,y_test)\n",
    "#n=pd.DataFrame([y_predict,y_test])"
   ]
  },
  {
   "cell_type": "code",
   "execution_count": 352,
   "metadata": {},
   "outputs": [
    {
     "data": {
      "text/plain": [
       "23.129987262900787"
      ]
     },
     "execution_count": 352,
     "metadata": {},
     "output_type": "execute_result"
    }
   ],
   "source": [
    "from sklearn.metrics import mean_absolute_error\n",
    "mean_absolute_error( y_predict,y_test)"
   ]
  },
  {
   "cell_type": "code",
   "execution_count": 274,
   "metadata": {},
   "outputs": [
    {
     "data": {
      "text/plain": [
       "(416, 22)"
      ]
     },
     "execution_count": 274,
     "metadata": {},
     "output_type": "execute_result"
    }
   ],
   "source": [
    "test=pd.read_csv(\"dengue_features_test.csv\")\n",
    "new1=pd.get_dummies(test[\"city\"])\n",
    "test=test.drop([\"week_start_date\",\"weekofyear\",\"year\",\"city\"],axis=1)\n",
    "test.fillna(test.mean(),inplace=True)\n",
    "test=pd.concat([new1,test],axis=1)\n",
    "test.shape\n",
    "x_train.shape\n",
    "\n",
    "test_pre=model.predict(test)\n"
   ]
  },
  {
   "cell_type": "code",
   "execution_count": 22,
   "metadata": {},
   "outputs": [
    {
     "name": "stdout",
     "output_type": "stream",
     "text": [
      "l1 55\n",
      "l1 28\n",
      "l1 66\n",
      "l2 []\n",
      "l3 71\n",
      "hi\n",
      "l2 None\n",
      "l3 13\n",
      "hi\n",
      "l2 None\n",
      "l3 23\n",
      "hi\n"
     ]
    }
   ],
   "source": [
    "l=[23,13,71,66,28,55]\n",
    "def my(l):\n",
    "    if len(l)<2:\n",
    "        return(l)\n",
    "    else:\n",
    "        print(\"l1\",l[-1])\n",
    "        print(\"l2\",my(l[1:-1]))\n",
    "        print(\"l3\",l[0])\n",
    "        print(\"hi\")\n",
    "        #return ([l[-1]]+my(l[1:-1])+[l[0]])\n",
    "        \n",
    "my(l)"
   ]
  },
  {
   "cell_type": "code",
   "execution_count": 29,
   "metadata": {},
   "outputs": [
    {
     "data": {
      "text/plain": [
       "{(2, 4, 5), (3, 3, 5), (3, 4, 5), (3, 4, 6)}"
      ]
     },
     "execution_count": 29,
     "metadata": {},
     "output_type": "execute_result"
    }
   ],
   "source": [
    "t={(x,y,z) for x in range(1,4) for y in range(2,5) for z in range(5,8) if x+y>z }\n",
    "t"
   ]
  },
  {
   "cell_type": "code",
   "execution_count": 32,
   "metadata": {},
   "outputs": [
    {
     "name": "stdout",
     "output_type": "stream",
     "text": [
      "1 2 5\n",
      "1 2 6\n",
      "1 2 7\n",
      "1 3 5\n",
      "1 3 6\n",
      "1 3 7\n",
      "1 4 5\n",
      "1 4 6\n",
      "1 4 7\n",
      "2 2 5\n",
      "2 2 6\n",
      "2 2 7\n",
      "2 3 5\n",
      "2 3 6\n",
      "2 3 7\n",
      "2 4 5\n",
      "2 4 6\n",
      "2 4 7\n",
      "3 2 5\n",
      "3 2 6\n",
      "3 2 7\n",
      "3 3 5\n",
      "3 3 6\n",
      "3 3 7\n",
      "3 4 5\n",
      "3 4 6\n",
      "3 4 7\n"
     ]
    }
   ],
   "source": [
    "for x in range(1,4):\n",
    "    for y in range(2,5):\n",
    "        for z in range(5,8):\n",
    "        #if x>y\n",
    "            print(x,y,z)\n"
   ]
  },
  {
   "cell_type": "code",
   "execution_count": 45,
   "metadata": {},
   "outputs": [
    {
     "data": {
      "text/plain": [
       "55"
      ]
     },
     "execution_count": 45,
     "metadata": {},
     "output_type": "execute_result"
    }
   ],
   "source": [
    "i={}\n",
    "i[(\"a\",\"mi\")]=55\n"
   ]
  },
  {
   "cell_type": "code",
   "execution_count": 72,
   "metadata": {},
   "outputs": [
    {
     "data": {
      "text/plain": [
       "{'T': {'D': {'U': [190, 130], 0: [44, 99]}}}"
      ]
     },
     "execution_count": 72,
     "metadata": {},
     "output_type": "execute_result"
    }
   ],
   "source": [
    "r={\"T\":{\"D\":{\"U\":[190,130]}}}\n",
    "r[\"T\"][\"D\"][0]=[44,99]\n",
    "r"
   ]
  }
 ],
 "metadata": {
  "kernelspec": {
   "display_name": "Python 3",
   "language": "python",
   "name": "python3"
  },
  "language_info": {
   "codemirror_mode": {
    "name": "ipython",
    "version": 3
   },
   "file_extension": ".py",
   "mimetype": "text/x-python",
   "name": "python",
   "nbconvert_exporter": "python",
   "pygments_lexer": "ipython3",
   "version": "3.6.5"
  }
 },
 "nbformat": 4,
 "nbformat_minor": 2
}
